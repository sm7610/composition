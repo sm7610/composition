{
  "nbformat": 4,
  "nbformat_minor": 0,
  "metadata": {
    "colab": {
      "name": "Copy of teacher_epsilon_snippet.ipynb",
      "provenance": [],
      "collapsed_sections": []
    },
    "kernelspec": {
      "name": "python3",
      "display_name": "Python 3"
    },
    "language_info": {
      "name": "python"
    }
  },
  "cells": [
    {
      "cell_type": "code",
      "metadata": {
        "id": "D2ldkR_tjnfA"
      },
      "source": [
        "import tensorflow as tf\n",
        "import numpy as np"
      ],
      "execution_count": 89,
      "outputs": []
    },
    {
      "cell_type": "code",
      "metadata": {
        "id": "UAGxLShpjovZ",
        "cellView": "code"
      },
      "source": [
        "#@title Initialisations\n",
        "batch_size = 8\n",
        "teacher_epsilons = [1, 1]   # len = num_teachers\n",
        "num_observations = 2\n",
        "\n",
        "learn_teacher_epsilons = [0, 0]     # bool \n",
        "learned_teacher_epsilons = []    # len = sum(learn_teacher_epsilons)\n",
        "\n",
        "bounds = [0., 0.]       # threshold on (x,y) distance to target for teacher regularisation"
      ],
      "execution_count": 90,
      "outputs": []
    },
    {
      "cell_type": "code",
      "source": [
        "obs = tf.convert_to_tensor(np.random.randn(batch_size, num_observations))"
      ],
      "metadata": {
        "id": "BtSug6A_EPLi"
      },
      "execution_count": 91,
      "outputs": []
    },
    {
      "cell_type": "code",
      "metadata": {
        "id": "ryXw5ZYFjsnx",
        "cellView": "code"
      },
      "source": [
        "#@title Create and update the teacher epsilons\n",
        "\n",
        "teacher_epsilons = tf.repeat(tf.convert_to_tensor(\n",
        "                    [teacher_epsilons], dtype=float), repeats=batch_size, axis=0)\n",
        "learned_teacher_epsilons = tf.repeat(tf.convert_to_tensor(\n",
        "                    [learned_teacher_epsilons]), repeats=batch_size, axis=0)\n",
        "teacher_epsilons = tf.Variable(teacher_epsilons)\n",
        "learned_teacher_epsilons = tf.Variable(learned_teacher_epsilons)\n",
        "\n",
        "# Check for dimension mismatch\n",
        "tf.debugging.assert_equal(\n",
        "    tf.shape(learned_teacher_epsilons)[1], sum(learn_teacher_epsilons))"
      ],
      "execution_count": 92,
      "outputs": []
    },
    {
      "cell_type": "code",
      "metadata": {
        "colab": {
          "base_uri": "https://localhost:8080/"
        },
        "id": "plIkX8cMjvtI",
        "outputId": "7abf2b22-c651-48fc-aded-321248d54c1c"
      },
      "source": [
        "count = 0\n",
        "for i, x in enumerate(learn_teacher_epsilons):\n",
        "    print(i)\n",
        "    if x:\n",
        "        teacher_epsilons = teacher_epsilons[:, i].assign(\n",
        "            learned_teacher_epsilons[:, count])\n",
        "        count += 1"
      ],
      "execution_count": 93,
      "outputs": [
        {
          "output_type": "stream",
          "name": "stdout",
          "text": [
            "0\n",
            "1\n"
          ]
        }
      ]
    },
    {
      "cell_type": "code",
      "metadata": {
        "colab": {
          "base_uri": "https://localhost:8080/"
        },
        "id": "gE5zKunHIbMJ",
        "outputId": "7ebca96d-ab7a-478a-c714-3382b63f4a6c"
      },
      "source": [
        "print(teacher_epsilons)"
      ],
      "execution_count": 94,
      "outputs": [
        {
          "output_type": "stream",
          "name": "stdout",
          "text": [
            "<tf.Variable 'Variable:0' shape=(8, 2) dtype=float32, numpy=\n",
            "array([[1., 1.],\n",
            "       [1., 1.],\n",
            "       [1., 1.],\n",
            "       [1., 1.],\n",
            "       [1., 1.],\n",
            "       [1., 1.],\n",
            "       [1., 1.],\n",
            "       [1., 1.]], dtype=float32)>\n"
          ]
        }
      ]
    },
    {
      "cell_type": "code",
      "metadata": {
        "id": "P2_bKGufu9-9",
        "colab": {
          "base_uri": "https://localhost:8080/"
        },
        "outputId": "c7d873a0-a0b2-4ca4-8d13-9ec9573588e0"
      },
      "source": [
        "obs_bool = tf.cast(tf.where(abs(obs) <= bounds, 0, 1), dtype=tf.float32)\n",
        "\n",
        "# Find if position is in the small square. If so, use both teachers. \n",
        "is_insquare = tf.where(obs_bool[:, 0] + obs_bool[:, 1] == 0, 1, 0)\n",
        "is_insquare = tf.expand_dims(is_insquare, axis=-1)\n",
        "is_insquare = tf.broadcast_to(is_insquare, [batch_size, num_observations])\n",
        "is_insquare = tf.cast(is_insquare, dtype = tf.float32)\n",
        "obs_bool += is_insquare\n",
        "\n",
        "teacher_epsilons.assign(obs_bool * teacher_epsilons)"
      ],
      "execution_count": 95,
      "outputs": [
        {
          "output_type": "execute_result",
          "data": {
            "text/plain": [
              "<tf.Variable 'UnreadVariable' shape=(8, 2) dtype=float32, numpy=\n",
              "array([[1., 1.],\n",
              "       [1., 1.],\n",
              "       [1., 1.],\n",
              "       [1., 1.],\n",
              "       [1., 1.],\n",
              "       [1., 1.],\n",
              "       [1., 1.],\n",
              "       [1., 1.]], dtype=float32)>"
            ]
          },
          "metadata": {},
          "execution_count": 95
        }
      ]
    },
    {
      "cell_type": "code",
      "metadata": {
        "id": "og5Nl7Eph-OW",
        "outputId": "79f3e543-dec5-4a58-9b7e-8b1e25508bf7",
        "colab": {
          "base_uri": "https://localhost:8080/"
        }
      },
      "source": [
        "print(obs)"
      ],
      "execution_count": 96,
      "outputs": [
        {
          "output_type": "stream",
          "name": "stdout",
          "text": [
            "tf.Tensor(\n",
            "[[-0.58573167  1.06876996]\n",
            " [-0.07761734  0.50615729]\n",
            " [-1.83031819 -0.1479727 ]\n",
            " [-0.15158393 -0.24046586]\n",
            " [ 0.74955873  0.2486711 ]\n",
            " [-0.05471362 -0.09137543]\n",
            " [-1.67013937 -1.08629146]\n",
            " [-0.47898374 -0.94952435]], shape=(8, 2), dtype=float64)\n"
          ]
        }
      ]
    },
    {
      "cell_type": "code",
      "source": [
        "# Change epsilon based on angle to target \n",
        "# teacher1 = go_horizontal teacher --> go to x=0\n",
        "# teacher2 = go_vertical teacher --> go to y=0\n",
        "\n",
        "# compute angle from origin \n",
        "\n",
        "# vector of distance of each observation from origin\n",
        "r = np.maximum(np.linalg.norm(obs, axis=1), 1e-4)\n",
        "\n",
        "# prefactors to multiply the teacher epsilons with, element wise\n",
        "# cosine of angle w.r.t. horizontal and vertical axes, respectively \n",
        "teacher_fac = np.abs(obs/r[:, None])\n",
        "\n",
        "# weight teacher epsilon by angle to origin \n",
        "teacher_epsilons = np.multiply(teacher_epsilons, teacher_fac)"
      ],
      "metadata": {
        "id": "h34Bj7eH--zQ"
      },
      "execution_count": 97,
      "outputs": []
    },
    {
      "cell_type": "code",
      "source": [
        "teacher_epsilons"
      ],
      "metadata": {
        "colab": {
          "base_uri": "https://localhost:8080/"
        },
        "id": "O7pgZHtbEUi2",
        "outputId": "6fefd01e-7cd2-4f0b-ecb1-baec2d48df75"
      },
      "execution_count": 98,
      "outputs": [
        {
          "output_type": "execute_result",
          "data": {
            "text/plain": [
              "array([[0.48060046, 0.87693968],\n",
              "       [0.1515745 , 0.98844584],\n",
              "       [0.99674795, 0.08058243],\n",
              "       [0.53326538, 0.84594801],\n",
              "       [0.94913128, 0.31488062],\n",
              "       [0.5137248 , 0.85795503],\n",
              "       [0.83828283, 0.54523563],\n",
              "       [0.45038639, 0.89283375]])"
            ]
          },
          "metadata": {},
          "execution_count": 98
        }
      ]
    },
    {
      "cell_type": "code",
      "source": [
        "obs"
      ],
      "metadata": {
        "colab": {
          "base_uri": "https://localhost:8080/"
        },
        "id": "APk18_ZzEVqu",
        "outputId": "930e6a97-6fa9-4ef8-9416-a36085a1650a"
      },
      "execution_count": 99,
      "outputs": [
        {
          "output_type": "execute_result",
          "data": {
            "text/plain": [
              "<tf.Tensor: shape=(8, 2), dtype=float64, numpy=\n",
              "array([[-0.58573167,  1.06876996],\n",
              "       [-0.07761734,  0.50615729],\n",
              "       [-1.83031819, -0.1479727 ],\n",
              "       [-0.15158393, -0.24046586],\n",
              "       [ 0.74955873,  0.2486711 ],\n",
              "       [-0.05471362, -0.09137543],\n",
              "       [-1.67013937, -1.08629146],\n",
              "       [-0.47898374, -0.94952435]])>"
            ]
          },
          "metadata": {},
          "execution_count": 99
        }
      ]
    },
    {
      "cell_type": "code",
      "source": [
        ""
      ],
      "metadata": {
        "id": "6n1NGOIEErAp"
      },
      "execution_count": null,
      "outputs": []
    }
  ]
}
